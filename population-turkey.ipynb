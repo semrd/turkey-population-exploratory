{
 "cells": [
  {
   "cell_type": "code",
   "execution_count": 4,
   "metadata": {},
   "outputs": [],
   "source": [
    "import numpy as np\n",
    "import pandas as pd\n",
    "import matplotlib.pyplot as plt\n",
    "import seaborn as sns"
   ]
  },
  {
   "cell_type": "code",
   "execution_count": 5,
   "metadata": {},
   "outputs": [
    {
     "data": {
      "text/html": [
       "<script type=\"text/javascript\">window.PlotlyConfig = {MathJaxConfig: 'local'};</script><script type=\"text/javascript\">if (window.MathJax) {MathJax.Hub.Config({SVG: {font: \"STIX-Web\"}});}</script><script>requirejs.config({paths: { 'plotly': ['https://cdn.plot.ly/plotly-latest.min']},});if(!window._Plotly) {require(['plotly'],function(plotly) {window._Plotly=plotly;});}</script>"
      ],
      "text/vnd.plotly.v1+html": [
       "<script type=\"text/javascript\">window.PlotlyConfig = {MathJaxConfig: 'local'};</script><script type=\"text/javascript\">if (window.MathJax) {MathJax.Hub.Config({SVG: {font: \"STIX-Web\"}});}</script><script>requirejs.config({paths: { 'plotly': ['https://cdn.plot.ly/plotly-latest.min']},});if(!window._Plotly) {require(['plotly'],function(plotly) {window._Plotly=plotly;});}</script>"
      ]
     },
     "metadata": {},
     "output_type": "display_data"
    }
   ],
   "source": [
    "%matplotlib inline\n",
    "\n",
    "import plotly.offline as py\n",
    "py.init_notebook_mode(connected = True)\n",
    "import plotly.graph_objs as go\n",
    "import plotly.tools as tls\n",
    "\n"
   ]
  },
  {
   "cell_type": "markdown",
   "metadata": {},
   "source": [
    "VERİ"
   ]
  },
  {
   "cell_type": "code",
   "execution_count": 40,
   "metadata": {},
   "outputs": [],
   "source": [
    "#Age Population Dataset\n",
    "\n",
    "nRowsRead = None\n",
    "df1 = pd.read_csv('C:/Users/ZENBOOK/Desktop/AgePopulation.csv', delimiter=',', nrows = nRowsRead)\n",
    "df1.dataframeName = 'AgePopulation.csv'\n",
    "nRow, nCol = df1.shape"
   ]
  },
  {
   "cell_type": "code",
   "execution_count": 41,
   "metadata": {},
   "outputs": [],
   "source": [
    "#Population Dataset\n",
    "\n",
    "nRowsRead = None\n",
    "df2 = pd.read_csv('C:/Users/ZENBOOK/Desktop/population.csv', delimiter=',', nrows = nRowsRead)\n",
    "df2.dataframeName = 'population.csv'\n",
    "nRow, nCol = df2.shape"
   ]
  },
  {
   "cell_type": "code",
   "execution_count": 8,
   "metadata": {},
   "outputs": [
    {
     "name": "stdout",
     "output_type": "stream",
     "text": [
      "<class 'pandas.core.frame.DataFrame'>\n",
      "RangeIndex: 22 entries, 0 to 21\n",
      "Data columns (total 4 columns):\n",
      "Age       22 non-null object\n",
      "Total     22 non-null int64\n",
      "Male      22 non-null int64\n",
      "Female    22 non-null int64\n",
      "dtypes: int64(3), object(1)\n",
      "memory usage: 784.0+ bytes\n"
     ]
    }
   ],
   "source": [
    "df1.info()"
   ]
  },
  {
   "cell_type": "code",
   "execution_count": 9,
   "metadata": {},
   "outputs": [
    {
     "data": {
      "text/html": [
       "<div>\n",
       "<style scoped>\n",
       "    .dataframe tbody tr th:only-of-type {\n",
       "        vertical-align: middle;\n",
       "    }\n",
       "\n",
       "    .dataframe tbody tr th {\n",
       "        vertical-align: top;\n",
       "    }\n",
       "\n",
       "    .dataframe thead th {\n",
       "        text-align: right;\n",
       "    }\n",
       "</style>\n",
       "<table border=\"1\" class=\"dataframe\">\n",
       "  <thead>\n",
       "    <tr style=\"text-align: right;\">\n",
       "      <th></th>\n",
       "      <th>Age</th>\n",
       "      <th>Total</th>\n",
       "      <th>Male</th>\n",
       "      <th>Female</th>\n",
       "    </tr>\n",
       "  </thead>\n",
       "  <tbody>\n",
       "    <tr>\n",
       "      <th>0</th>\n",
       "      <td>Total</td>\n",
       "      <td>81867223</td>\n",
       "      <td>41059075</td>\n",
       "      <td>40808147</td>\n",
       "    </tr>\n",
       "    <tr>\n",
       "      <th>1</th>\n",
       "      <td>0-4</td>\n",
       "      <td>6544781</td>\n",
       "      <td>3357981</td>\n",
       "      <td>3186800</td>\n",
       "    </tr>\n",
       "    <tr>\n",
       "      <th>2</th>\n",
       "      <td>5-9</td>\n",
       "      <td>6336787</td>\n",
       "      <td>3253192</td>\n",
       "      <td>3083595</td>\n",
       "    </tr>\n",
       "    <tr>\n",
       "      <th>3</th>\n",
       "      <td>10-14</td>\n",
       "      <td>6322223</td>\n",
       "      <td>3244584</td>\n",
       "      <td>3077639</td>\n",
       "    </tr>\n",
       "    <tr>\n",
       "      <th>4</th>\n",
       "      <td>15-19</td>\n",
       "      <td>6402806</td>\n",
       "      <td>3288016</td>\n",
       "      <td>3114790</td>\n",
       "    </tr>\n",
       "  </tbody>\n",
       "</table>\n",
       "</div>"
      ],
      "text/plain": [
       "     Age     Total      Male    Female\n",
       "0  Total  81867223  41059075  40808147\n",
       "1    0-4   6544781   3357981   3186800\n",
       "2    5-9   6336787   3253192   3083595\n",
       "3  10-14   6322223   3244584   3077639\n",
       "4  15-19   6402806   3288016   3114790"
      ]
     },
     "execution_count": 9,
     "metadata": {},
     "output_type": "execute_result"
    }
   ],
   "source": [
    "df1.head()"
   ]
  },
  {
   "cell_type": "code",
   "execution_count": 10,
   "metadata": {},
   "outputs": [
    {
     "data": {
      "text/plain": [
       "<bound method IndexOpsMixin.value_counts of 0     Total\n",
       "1       0-4\n",
       "2       5-9\n",
       "3     10-14\n",
       "4     15-19\n",
       "5     20-24\n",
       "6     25-29\n",
       "7     30-34\n",
       "8     35-39\n",
       "9     40-44\n",
       "10    45-49\n",
       "11    50-54\n",
       "12    55-59\n",
       "13    60-64\n",
       "14    65-69\n",
       "15    70-74\n",
       "16    75-79\n",
       "17    80-84\n",
       "18    85-89\n",
       "19    90-94\n",
       "20    95-99\n",
       "21     100+\n",
       "Name: Age, dtype: object>"
      ]
     },
     "execution_count": 10,
     "metadata": {},
     "output_type": "execute_result"
    }
   ],
   "source": [
    "df1['Age'].value_counts"
   ]
  },
  {
   "cell_type": "markdown",
   "metadata": {},
   "source": [
    "Yaşa Göre Kadın ve Erkek Sayısı"
   ]
  },
  {
   "cell_type": "code",
   "execution_count": 11,
   "metadata": {},
   "outputs": [
    {
     "data": {
      "text/html": [
       "<div>\n",
       "<style scoped>\n",
       "    .dataframe tbody tr th:only-of-type {\n",
       "        vertical-align: middle;\n",
       "    }\n",
       "\n",
       "    .dataframe tbody tr th {\n",
       "        vertical-align: top;\n",
       "    }\n",
       "\n",
       "    .dataframe thead th {\n",
       "        text-align: right;\n",
       "    }\n",
       "</style>\n",
       "<table border=\"1\" class=\"dataframe\">\n",
       "  <thead>\n",
       "    <tr style=\"text-align: right;\">\n",
       "      <th></th>\n",
       "      <th></th>\n",
       "      <th>Age</th>\n",
       "    </tr>\n",
       "    <tr>\n",
       "      <th>Female</th>\n",
       "      <th>Male</th>\n",
       "      <th></th>\n",
       "    </tr>\n",
       "  </thead>\n",
       "  <tbody>\n",
       "    <tr>\n",
       "      <th>4352</th>\n",
       "      <th>638</th>\n",
       "      <td>100+</td>\n",
       "    </tr>\n",
       "    <tr>\n",
       "      <th>18362</th>\n",
       "      <th>5249</th>\n",
       "      <td>95-99</td>\n",
       "    </tr>\n",
       "    <tr>\n",
       "      <th>105158</th>\n",
       "      <th>41254</th>\n",
       "      <td>90-94</td>\n",
       "    </tr>\n",
       "    <tr>\n",
       "      <th>302695</th>\n",
       "      <th>181949</th>\n",
       "      <td>85-89</td>\n",
       "    </tr>\n",
       "    <tr>\n",
       "      <th>473552</th>\n",
       "      <th>317440</th>\n",
       "      <td>80-84</td>\n",
       "    </tr>\n",
       "    <tr>\n",
       "      <th>720197</th>\n",
       "      <th>537620</th>\n",
       "      <td>75-79</td>\n",
       "    </tr>\n",
       "    <tr>\n",
       "      <th>1017999</th>\n",
       "      <th>831911</th>\n",
       "      <td>70-74</td>\n",
       "    </tr>\n",
       "    <tr>\n",
       "      <th>1362395</th>\n",
       "      <th>1242584</th>\n",
       "      <td>65-69</td>\n",
       "    </tr>\n",
       "    <tr>\n",
       "      <th>1750051</th>\n",
       "      <th>1687722</th>\n",
       "      <td>60-64</td>\n",
       "    </tr>\n",
       "    <tr>\n",
       "      <th>2091886</th>\n",
       "      <th>2072110</th>\n",
       "      <td>55-59</td>\n",
       "    </tr>\n",
       "    <tr>\n",
       "      <th>2326325</th>\n",
       "      <th>2367229</th>\n",
       "      <td>50-54</td>\n",
       "    </tr>\n",
       "    <tr>\n",
       "      <th>2637665</th>\n",
       "      <th>2665168</th>\n",
       "      <td>45-49</td>\n",
       "    </tr>\n",
       "    <tr>\n",
       "      <th>2888574</th>\n",
       "      <th>2947638</th>\n",
       "      <td>40-44</td>\n",
       "    </tr>\n",
       "    <tr>\n",
       "      <th>3077639</th>\n",
       "      <th>3244584</th>\n",
       "      <td>10-14</td>\n",
       "    </tr>\n",
       "    <tr>\n",
       "      <th>3080016</th>\n",
       "      <th>3176593</th>\n",
       "      <td>25-29</td>\n",
       "    </tr>\n",
       "    <tr>\n",
       "      <th>3083595</th>\n",
       "      <th>3253192</th>\n",
       "      <td>5-9</td>\n",
       "    </tr>\n",
       "    <tr>\n",
       "      <th>3114790</th>\n",
       "      <th>3288016</th>\n",
       "      <td>15-19</td>\n",
       "    </tr>\n",
       "    <tr>\n",
       "      <th>3121812</th>\n",
       "      <th>3197285</th>\n",
       "      <td>30-34</td>\n",
       "    </tr>\n",
       "    <tr>\n",
       "      <th>3186800</th>\n",
       "      <th>3357981</th>\n",
       "      <td>0-4</td>\n",
       "    </tr>\n",
       "    <tr>\n",
       "      <th>3190769</th>\n",
       "      <th>3333076</th>\n",
       "      <td>20-24</td>\n",
       "    </tr>\n",
       "    <tr>\n",
       "      <th>3253516</th>\n",
       "      <th>3309834</th>\n",
       "      <td>35-39</td>\n",
       "    </tr>\n",
       "    <tr>\n",
       "      <th>40808147</th>\n",
       "      <th>41059075</th>\n",
       "      <td>Total</td>\n",
       "    </tr>\n",
       "  </tbody>\n",
       "</table>\n",
       "</div>"
      ],
      "text/plain": [
       "                     Age\n",
       "Female   Male           \n",
       "4352     638        100+\n",
       "18362    5249      95-99\n",
       "105158   41254     90-94\n",
       "302695   181949    85-89\n",
       "473552   317440    80-84\n",
       "720197   537620    75-79\n",
       "1017999  831911    70-74\n",
       "1362395  1242584   65-69\n",
       "1750051  1687722   60-64\n",
       "2091886  2072110   55-59\n",
       "2326325  2367229   50-54\n",
       "2637665  2665168   45-49\n",
       "2888574  2947638   40-44\n",
       "3077639  3244584   10-14\n",
       "3080016  3176593   25-29\n",
       "3083595  3253192     5-9\n",
       "3114790  3288016   15-19\n",
       "3121812  3197285   30-34\n",
       "3186800  3357981     0-4\n",
       "3190769  3333076   20-24\n",
       "3253516  3309834   35-39\n",
       "40808147 41059075  Total"
      ]
     },
     "execution_count": 11,
     "metadata": {},
     "output_type": "execute_result"
    }
   ],
   "source": [
    "df1[['Female','Male','Age']].groupby(['Female','Male']).sum()"
   ]
  },
  {
   "cell_type": "markdown",
   "metadata": {},
   "source": [
    "Yaşa Göre Kadın Nüfusunun Görselleştirilmesi"
   ]
  },
  {
   "cell_type": "code",
   "execution_count": 12,
   "metadata": {},
   "outputs": [
    {
     "data": {
      "text/plain": [
       "<matplotlib.axes._subplots.AxesSubplot at 0x26a141835c0>"
      ]
     },
     "execution_count": 12,
     "metadata": {},
     "output_type": "execute_result"
    },
    {
     "data": {
      "image/png": "[encoded data removed]",
      "text/plain": [
       "<Figure size 864x576 with 1 Axes>"
      ]
     },
     "metadata": {},
     "output_type": "display_data"
    }
   ],
   "source": [
    "plt.figure(figsize = (12,8))\n",
    "plt.title('Yaşa Göre Kadın Nüfusu')\n",
    "sns.set_style(style = 'whitegrid')\n",
    "\n",
    "sns.barplot(x = 'Female', y = 'Age', data = df1.sort_values(by = ['Total'],ascending = False))"
   ]
  },
  {
   "cell_type": "markdown",
   "metadata": {},
   "source": [
    "Yaşa Göre Erkek Nüfusunun Görselleştirilmesi"
   ]
  },
  {
   "cell_type": "code",
   "execution_count": 13,
   "metadata": {},
   "outputs": [
    {
     "data": {
      "text/plain": [
       "<matplotlib.axes._subplots.AxesSubplot at 0x26a1475e5c0>"
      ]
     },
     "execution_count": 13,
     "metadata": {},
     "output_type": "execute_result"
    },
    {
     "data": {
      "image/png": "[encoded data removed]",
      "text/plain": [
       "<Figure size 864x576 with 1 Axes>"
      ]
     },
     "metadata": {},
     "output_type": "display_data"
    }
   ],
   "source": [
    "plt.figure(figsize = (12,8))\n",
    "plt.title('Yaşa Göre Erkek Nüfusu')\n",
    "sns.set_style(style = 'dark')\n",
    "\n",
    "sns.barplot(x = 'Male', y = 'Age', data = df1.sort_values(by = ['Total'],ascending = False))"
   ]
  },
  {
   "cell_type": "markdown",
   "metadata": {},
   "source": [
    "Yaşa Göre Toplam Nüfus Dağılımının Görselleştirilmesi"
   ]
  },
  {
   "cell_type": "code",
   "execution_count": 14,
   "metadata": {},
   "outputs": [
    {
     "data": {
      "text/plain": [
       "<matplotlib.axes._subplots.AxesSubplot at 0x26a14492668>"
      ]
     },
     "execution_count": 14,
     "metadata": {},
     "output_type": "execute_result"
    },
    {
     "data": {
      "image/png": "[encoded data removed]",
      "text/plain": [
       "<Figure size 864x576 with 1 Axes>"
      ]
     },
     "metadata": {},
     "output_type": "display_data"
    }
   ],
   "source": [
    "plt.figure(figsize = (12,8))\n",
    "plt.title('Yaşa Göre Nüfus Dağılımı')\n",
    "sns.set_style(style = 'ticks')\n",
    "\n",
    "sns.barplot(x = 'Total', y = 'Age', data = df1.sort_values(by = ['Total'],ascending = False))"
   ]
  },
  {
   "cell_type": "markdown",
   "metadata": {},
   "source": [
    "En Yaşlılar (100+)"
   ]
  },
  {
   "cell_type": "code",
   "execution_count": 15,
   "metadata": {},
   "outputs": [
    {
     "data": {
      "text/html": [
       "<div>\n",
       "<style scoped>\n",
       "    .dataframe tbody tr th:only-of-type {\n",
       "        vertical-align: middle;\n",
       "    }\n",
       "\n",
       "    .dataframe tbody tr th {\n",
       "        vertical-align: top;\n",
       "    }\n",
       "\n",
       "    .dataframe thead th {\n",
       "        text-align: right;\n",
       "    }\n",
       "</style>\n",
       "<table border=\"1\" class=\"dataframe\">\n",
       "  <thead>\n",
       "    <tr style=\"text-align: right;\">\n",
       "      <th></th>\n",
       "      <th>Age</th>\n",
       "      <th>Total</th>\n",
       "      <th>Male</th>\n",
       "      <th>Female</th>\n",
       "    </tr>\n",
       "  </thead>\n",
       "  <tbody>\n",
       "    <tr>\n",
       "      <th>21</th>\n",
       "      <td>100+</td>\n",
       "      <td>4990</td>\n",
       "      <td>638</td>\n",
       "      <td>4352</td>\n",
       "    </tr>\n",
       "  </tbody>\n",
       "</table>\n",
       "</div>"
      ],
      "text/plain": [
       "     Age  Total  Male  Female\n",
       "21  100+   4990   638    4352"
      ]
     },
     "execution_count": 15,
     "metadata": {},
     "output_type": "execute_result"
    }
   ],
   "source": [
    "df1[df1['Age']=='100+']"
   ]
  },
  {
   "cell_type": "markdown",
   "metadata": {},
   "source": [
    "En Gençler (0-4)"
   ]
  },
  {
   "cell_type": "code",
   "execution_count": 16,
   "metadata": {},
   "outputs": [
    {
     "data": {
      "text/html": [
       "<div>\n",
       "<style scoped>\n",
       "    .dataframe tbody tr th:only-of-type {\n",
       "        vertical-align: middle;\n",
       "    }\n",
       "\n",
       "    .dataframe tbody tr th {\n",
       "        vertical-align: top;\n",
       "    }\n",
       "\n",
       "    .dataframe thead th {\n",
       "        text-align: right;\n",
       "    }\n",
       "</style>\n",
       "<table border=\"1\" class=\"dataframe\">\n",
       "  <thead>\n",
       "    <tr style=\"text-align: right;\">\n",
       "      <th></th>\n",
       "      <th>Age</th>\n",
       "      <th>Total</th>\n",
       "      <th>Male</th>\n",
       "      <th>Female</th>\n",
       "    </tr>\n",
       "  </thead>\n",
       "  <tbody>\n",
       "    <tr>\n",
       "      <th>1</th>\n",
       "      <td>0-4</td>\n",
       "      <td>6544781</td>\n",
       "      <td>3357981</td>\n",
       "      <td>3186800</td>\n",
       "    </tr>\n",
       "  </tbody>\n",
       "</table>\n",
       "</div>"
      ],
      "text/plain": [
       "   Age    Total     Male   Female\n",
       "1  0-4  6544781  3357981  3186800"
      ]
     },
     "execution_count": 16,
     "metadata": {},
     "output_type": "execute_result"
    }
   ],
   "source": [
    "df1[df1['Age']=='0-4']"
   ]
  },
  {
   "cell_type": "markdown",
   "metadata": {},
   "source": [
    "Ülkemizde yaş gruplarının yoğunluk sıralaması"
   ]
  },
  {
   "cell_type": "code",
   "execution_count": 28,
   "metadata": {},
   "outputs": [
    {
     "data": {
      "text/html": [
       "<div>\n",
       "<style scoped>\n",
       "    .dataframe tbody tr th:only-of-type {\n",
       "        vertical-align: middle;\n",
       "    }\n",
       "\n",
       "    .dataframe tbody tr th {\n",
       "        vertical-align: top;\n",
       "    }\n",
       "\n",
       "    .dataframe thead th {\n",
       "        text-align: right;\n",
       "    }\n",
       "</style>\n",
       "<table border=\"1\" class=\"dataframe\">\n",
       "  <thead>\n",
       "    <tr style=\"text-align: right;\">\n",
       "      <th></th>\n",
       "      <th>Age</th>\n",
       "    </tr>\n",
       "    <tr>\n",
       "      <th>Total</th>\n",
       "      <th></th>\n",
       "    </tr>\n",
       "  </thead>\n",
       "  <tbody>\n",
       "    <tr>\n",
       "      <th>4990</th>\n",
       "      <td>100+</td>\n",
       "    </tr>\n",
       "    <tr>\n",
       "      <th>23611</th>\n",
       "      <td>95-99</td>\n",
       "    </tr>\n",
       "    <tr>\n",
       "      <th>146412</th>\n",
       "      <td>90-94</td>\n",
       "    </tr>\n",
       "    <tr>\n",
       "      <th>484644</th>\n",
       "      <td>85-89</td>\n",
       "    </tr>\n",
       "    <tr>\n",
       "      <th>790992</th>\n",
       "      <td>80-84</td>\n",
       "    </tr>\n",
       "    <tr>\n",
       "      <th>1257817</th>\n",
       "      <td>75-79</td>\n",
       "    </tr>\n",
       "    <tr>\n",
       "      <th>1849910</th>\n",
       "      <td>70-74</td>\n",
       "    </tr>\n",
       "    <tr>\n",
       "      <th>2604978</th>\n",
       "      <td>65-69</td>\n",
       "    </tr>\n",
       "    <tr>\n",
       "      <th>3437773</th>\n",
       "      <td>60-64</td>\n",
       "    </tr>\n",
       "    <tr>\n",
       "      <th>4163996</th>\n",
       "      <td>55-59</td>\n",
       "    </tr>\n",
       "    <tr>\n",
       "      <th>4693555</th>\n",
       "      <td>50-54</td>\n",
       "    </tr>\n",
       "    <tr>\n",
       "      <th>5302832</th>\n",
       "      <td>45-49</td>\n",
       "    </tr>\n",
       "    <tr>\n",
       "      <th>5836212</th>\n",
       "      <td>40-44</td>\n",
       "    </tr>\n",
       "    <tr>\n",
       "      <th>6256609</th>\n",
       "      <td>25-29</td>\n",
       "    </tr>\n",
       "    <tr>\n",
       "      <th>6319097</th>\n",
       "      <td>30-34</td>\n",
       "    </tr>\n",
       "    <tr>\n",
       "      <th>6322223</th>\n",
       "      <td>10-14</td>\n",
       "    </tr>\n",
       "    <tr>\n",
       "      <th>6336787</th>\n",
       "      <td>5-9</td>\n",
       "    </tr>\n",
       "    <tr>\n",
       "      <th>6402806</th>\n",
       "      <td>15-19</td>\n",
       "    </tr>\n",
       "    <tr>\n",
       "      <th>6523846</th>\n",
       "      <td>20-24</td>\n",
       "    </tr>\n",
       "    <tr>\n",
       "      <th>6544781</th>\n",
       "      <td>0-4</td>\n",
       "    </tr>\n",
       "    <tr>\n",
       "      <th>6563350</th>\n",
       "      <td>35-39</td>\n",
       "    </tr>\n",
       "    <tr>\n",
       "      <th>81867223</th>\n",
       "      <td>Total</td>\n",
       "    </tr>\n",
       "  </tbody>\n",
       "</table>\n",
       "</div>"
      ],
      "text/plain": [
       "            Age\n",
       "Total          \n",
       "4990       100+\n",
       "23611     95-99\n",
       "146412    90-94\n",
       "484644    85-89\n",
       "790992    80-84\n",
       "1257817   75-79\n",
       "1849910   70-74\n",
       "2604978   65-69\n",
       "3437773   60-64\n",
       "4163996   55-59\n",
       "4693555   50-54\n",
       "5302832   45-49\n",
       "5836212   40-44\n",
       "6256609   25-29\n",
       "6319097   30-34\n",
       "6322223   10-14\n",
       "6336787     5-9\n",
       "6402806   15-19\n",
       "6523846   20-24\n",
       "6544781     0-4\n",
       "6563350   35-39\n",
       "81867223  Total"
      ]
     },
     "execution_count": 28,
     "metadata": {},
     "output_type": "execute_result"
    }
   ],
   "source": [
    "df1[['Age','Total']].groupby(['Total']).max()"
   ]
  },
  {
   "cell_type": "markdown",
   "metadata": {},
   "source": [
    "Population data analysis"
   ]
  },
  {
   "cell_type": "code",
   "execution_count": 18,
   "metadata": {},
   "outputs": [
    {
     "name": "stdout",
     "output_type": "stream",
     "text": [
      "<class 'pandas.core.frame.DataFrame'>\n",
      "RangeIndex: 82 entries, 0 to 81\n",
      "Data columns (total 2 columns):\n",
      "City          82 non-null object\n",
      "Population    82 non-null int64\n",
      "dtypes: int64(1), object(1)\n",
      "memory usage: 1.4+ KB\n"
     ]
    }
   ],
   "source": [
    "df2.info()"
   ]
  },
  {
   "cell_type": "code",
   "execution_count": 19,
   "metadata": {},
   "outputs": [
    {
     "data": {
      "text/html": [
       "<div>\n",
       "<style scoped>\n",
       "    .dataframe tbody tr th:only-of-type {\n",
       "        vertical-align: middle;\n",
       "    }\n",
       "\n",
       "    .dataframe tbody tr th {\n",
       "        vertical-align: top;\n",
       "    }\n",
       "\n",
       "    .dataframe thead th {\n",
       "        text-align: right;\n",
       "    }\n",
       "</style>\n",
       "<table border=\"1\" class=\"dataframe\">\n",
       "  <thead>\n",
       "    <tr style=\"text-align: right;\">\n",
       "      <th></th>\n",
       "      <th>City</th>\n",
       "      <th>Population</th>\n",
       "    </tr>\n",
       "  </thead>\n",
       "  <tbody>\n",
       "    <tr>\n",
       "      <th>0</th>\n",
       "      <td>Total</td>\n",
       "      <td>81867223</td>\n",
       "    </tr>\n",
       "    <tr>\n",
       "      <th>1</th>\n",
       "      <td>Adana</td>\n",
       "      <td>2229410</td>\n",
       "    </tr>\n",
       "    <tr>\n",
       "      <th>2</th>\n",
       "      <td>Adıyaman</td>\n",
       "      <td>621171</td>\n",
       "    </tr>\n",
       "    <tr>\n",
       "      <th>3</th>\n",
       "      <td>Afyonkarahisar</td>\n",
       "      <td>719081</td>\n",
       "    </tr>\n",
       "    <tr>\n",
       "      <th>4</th>\n",
       "      <td>Ağrı</td>\n",
       "      <td>534092</td>\n",
       "    </tr>\n",
       "  </tbody>\n",
       "</table>\n",
       "</div>"
      ],
      "text/plain": [
       "             City  Population\n",
       "0           Total    81867223\n",
       "1           Adana     2229410\n",
       "2        Adıyaman      621171\n",
       "3  Afyonkarahisar      719081\n",
       "4            Ağrı      534092"
      ]
     },
     "execution_count": 19,
     "metadata": {},
     "output_type": "execute_result"
    }
   ],
   "source": [
    "df2.head()"
   ]
  },
  {
   "cell_type": "markdown",
   "metadata": {},
   "source": [
    "En Az Nüfustan En Fazla Nüfusa Şehir Sıralaması"
   ]
  },
  {
   "cell_type": "code",
   "execution_count": 39,
   "metadata": {},
   "outputs": [
    {
     "data": {
      "text/html": [
       "<div>\n",
       "<style scoped>\n",
       "    .dataframe tbody tr th:only-of-type {\n",
       "        vertical-align: middle;\n",
       "    }\n",
       "\n",
       "    .dataframe tbody tr th {\n",
       "        vertical-align: top;\n",
       "    }\n",
       "\n",
       "    .dataframe thead th {\n",
       "        text-align: right;\n",
       "    }\n",
       "</style>\n",
       "<table border=\"1\" class=\"dataframe\">\n",
       "  <thead>\n",
       "    <tr style=\"text-align: right;\">\n",
       "      <th></th>\n",
       "      <th>City</th>\n",
       "    </tr>\n",
       "    <tr>\n",
       "      <th>Population</th>\n",
       "      <th></th>\n",
       "    </tr>\n",
       "  </thead>\n",
       "  <tbody>\n",
       "    <tr>\n",
       "      <th>29770</th>\n",
       "      <td>Amasya</td>\n",
       "    </tr>\n",
       "    <tr>\n",
       "      <th>81429</th>\n",
       "      <td>Bayburt</td>\n",
       "    </tr>\n",
       "    <tr>\n",
       "      <th>81709</th>\n",
       "      <td>Tunceli</td>\n",
       "    </tr>\n",
       "    <tr>\n",
       "      <th>95726</th>\n",
       "      <td>Ardahan</td>\n",
       "    </tr>\n",
       "    <tr>\n",
       "      <th>137612</th>\n",
       "      <td>Kilis</td>\n",
       "    </tr>\n",
       "    <tr>\n",
       "      <th>165342</th>\n",
       "      <td>Artvin</td>\n",
       "    </tr>\n",
       "    <tr>\n",
       "      <th>172567</th>\n",
       "      <td>Gümüşhane</td>\n",
       "    </tr>\n",
       "    <tr>\n",
       "      <th>184279</th>\n",
       "      <td>Çankırı</td>\n",
       "    </tr>\n",
       "    <tr>\n",
       "      <th>194504</th>\n",
       "      <td>Bartın</td>\n",
       "    </tr>\n",
       "    <tr>\n",
       "      <th>195791</th>\n",
       "      <td>Iğdır</td>\n",
       "    </tr>\n",
       "    <tr>\n",
       "      <th>208065</th>\n",
       "      <td>Sinop</td>\n",
       "    </tr>\n",
       "    <tr>\n",
       "      <th>224182</th>\n",
       "      <td>Bilecik</td>\n",
       "    </tr>\n",
       "    <tr>\n",
       "      <th>232401</th>\n",
       "      <td>Erzincan</td>\n",
       "    </tr>\n",
       "    <tr>\n",
       "      <th>238105</th>\n",
       "      <td>Kırşehir</td>\n",
       "    </tr>\n",
       "    <tr>\n",
       "      <th>248757</th>\n",
       "      <td>Karaman</td>\n",
       "    </tr>\n",
       "    <tr>\n",
       "      <th>249179</th>\n",
       "      <td>Karabük</td>\n",
       "    </tr>\n",
       "    <tr>\n",
       "      <th>259871</th>\n",
       "      <td>Yalova</td>\n",
       "    </tr>\n",
       "    <tr>\n",
       "      <th>263682</th>\n",
       "      <td>Burdur</td>\n",
       "    </tr>\n",
       "    <tr>\n",
       "      <th>276394</th>\n",
       "      <td>Bingöl</td>\n",
       "    </tr>\n",
       "    <tr>\n",
       "      <th>277179</th>\n",
       "      <td>Hakkari</td>\n",
       "    </tr>\n",
       "    <tr>\n",
       "      <th>279940</th>\n",
       "      <td>Kırıkkale</td>\n",
       "    </tr>\n",
       "    <tr>\n",
       "      <th>284855</th>\n",
       "      <td>Kars</td>\n",
       "    </tr>\n",
       "    <tr>\n",
       "      <th>294228</th>\n",
       "      <td>Nevşehir</td>\n",
       "    </tr>\n",
       "    <tr>\n",
       "      <th>308310</th>\n",
       "      <td>Bolu</td>\n",
       "    </tr>\n",
       "    <tr>\n",
       "      <th>328683</th>\n",
       "      <td>Siirt</td>\n",
       "    </tr>\n",
       "    <tr>\n",
       "      <th>331479</th>\n",
       "      <td>Rize</td>\n",
       "    </tr>\n",
       "    <tr>\n",
       "      <th>343717</th>\n",
       "      <td>Bitlis</td>\n",
       "    </tr>\n",
       "    <tr>\n",
       "      <th>355350</th>\n",
       "      <td>Niğde</td>\n",
       "    </tr>\n",
       "    <tr>\n",
       "      <th>358275</th>\n",
       "      <td>Kırklareli</td>\n",
       "    </tr>\n",
       "    <tr>\n",
       "      <th>370188</th>\n",
       "      <td>Uşak</td>\n",
       "    </tr>\n",
       "    <tr>\n",
       "      <th>...</th>\n",
       "      <td>...</td>\n",
       "    </tr>\n",
       "    <tr>\n",
       "      <th>759897</th>\n",
       "      <td>Erzurum</td>\n",
       "    </tr>\n",
       "    <tr>\n",
       "      <th>792803</th>\n",
       "      <td>Malatya</td>\n",
       "    </tr>\n",
       "    <tr>\n",
       "      <th>793899</th>\n",
       "      <td>Trabzon</td>\n",
       "    </tr>\n",
       "    <tr>\n",
       "      <th>819422</th>\n",
       "      <td>Mardin</td>\n",
       "    </tr>\n",
       "    <tr>\n",
       "      <th>877767</th>\n",
       "      <td>Eskişehir</td>\n",
       "    </tr>\n",
       "    <tr>\n",
       "      <th>955080</th>\n",
       "      <td>Muğla</td>\n",
       "    </tr>\n",
       "    <tr>\n",
       "      <th>1010819</th>\n",
       "      <td>Sakarya</td>\n",
       "    </tr>\n",
       "    <tr>\n",
       "      <th>1031528</th>\n",
       "      <td>Denizli</td>\n",
       "    </tr>\n",
       "    <tr>\n",
       "      <th>1039088</th>\n",
       "      <td>Tekirdağ</td>\n",
       "    </tr>\n",
       "    <tr>\n",
       "      <th>1095470</th>\n",
       "      <td>Aydın</td>\n",
       "    </tr>\n",
       "    <tr>\n",
       "      <th>1117484</th>\n",
       "      <td>Van</td>\n",
       "    </tr>\n",
       "    <tr>\n",
       "      <th>1141969</th>\n",
       "      <td>Kahramanmaraş</td>\n",
       "    </tr>\n",
       "    <tr>\n",
       "      <th>1213811</th>\n",
       "      <td>Balıkesir</td>\n",
       "    </tr>\n",
       "    <tr>\n",
       "      <th>1325637</th>\n",
       "      <td>Samsun</td>\n",
       "    </tr>\n",
       "    <tr>\n",
       "      <th>1396387</th>\n",
       "      <td>Kayseri</td>\n",
       "    </tr>\n",
       "    <tr>\n",
       "      <th>1424518</th>\n",
       "      <td>Manisa</td>\n",
       "    </tr>\n",
       "    <tr>\n",
       "      <th>1594832</th>\n",
       "      <td>Hatay</td>\n",
       "    </tr>\n",
       "    <tr>\n",
       "      <th>1726464</th>\n",
       "      <td>Diyarbakır</td>\n",
       "    </tr>\n",
       "    <tr>\n",
       "      <th>1815801</th>\n",
       "      <td>Mersin</td>\n",
       "    </tr>\n",
       "    <tr>\n",
       "      <th>1937526</th>\n",
       "      <td>Kocaeli</td>\n",
       "    </tr>\n",
       "    <tr>\n",
       "      <th>2036837</th>\n",
       "      <td>Şanlıurfa</td>\n",
       "    </tr>\n",
       "    <tr>\n",
       "      <th>2047275</th>\n",
       "      <td>Gaziantep</td>\n",
       "    </tr>\n",
       "    <tr>\n",
       "      <th>2205717</th>\n",
       "      <td>Konya</td>\n",
       "    </tr>\n",
       "    <tr>\n",
       "      <th>2229410</th>\n",
       "      <td>Adana</td>\n",
       "    </tr>\n",
       "    <tr>\n",
       "      <th>2415462</th>\n",
       "      <td>Antalya</td>\n",
       "    </tr>\n",
       "    <tr>\n",
       "      <th>2988233</th>\n",
       "      <td>Bursa</td>\n",
       "    </tr>\n",
       "    <tr>\n",
       "      <th>4330317</th>\n",
       "      <td>İzmir</td>\n",
       "    </tr>\n",
       "    <tr>\n",
       "      <th>5546531</th>\n",
       "      <td>Ankara</td>\n",
       "    </tr>\n",
       "    <tr>\n",
       "      <th>15254231</th>\n",
       "      <td>İstanbul</td>\n",
       "    </tr>\n",
       "    <tr>\n",
       "      <th>81867223</th>\n",
       "      <td>Total</td>\n",
       "    </tr>\n",
       "  </tbody>\n",
       "</table>\n",
       "<p>82 rows × 1 columns</p>\n",
       "</div>"
      ],
      "text/plain": [
       "                     City\n",
       "Population               \n",
       "29770              Amasya\n",
       "81429             Bayburt\n",
       "81709             Tunceli\n",
       "95726             Ardahan\n",
       "137612              Kilis\n",
       "165342             Artvin\n",
       "172567          Gümüşhane\n",
       "184279            Çankırı\n",
       "194504             Bartın\n",
       "195791              Iğdır\n",
       "208065              Sinop\n",
       "224182            Bilecik\n",
       "232401           Erzincan\n",
       "238105           Kırşehir\n",
       "248757            Karaman\n",
       "249179            Karabük\n",
       "259871             Yalova\n",
       "263682             Burdur\n",
       "276394             Bingöl\n",
       "277179            Hakkari\n",
       "279940          Kırıkkale\n",
       "284855               Kars\n",
       "294228           Nevşehir\n",
       "308310               Bolu\n",
       "328683              Siirt\n",
       "331479               Rize\n",
       "343717             Bitlis\n",
       "355350              Niğde\n",
       "358275         Kırklareli\n",
       "370188               Uşak\n",
       "...                   ...\n",
       "759897            Erzurum\n",
       "792803            Malatya\n",
       "793899            Trabzon\n",
       "819422             Mardin\n",
       "877767          Eskişehir\n",
       "955080              Muğla\n",
       "1010819           Sakarya\n",
       "1031528           Denizli\n",
       "1039088          Tekirdağ\n",
       "1095470             Aydın\n",
       "1117484               Van\n",
       "1141969     Kahramanmaraş\n",
       "1213811         Balıkesir\n",
       "1325637            Samsun\n",
       "1396387           Kayseri\n",
       "1424518            Manisa\n",
       "1594832             Hatay\n",
       "1726464        Diyarbakır\n",
       "1815801            Mersin\n",
       "1937526           Kocaeli\n",
       "2036837         Şanlıurfa\n",
       "2047275         Gaziantep\n",
       "2205717             Konya\n",
       "2229410             Adana\n",
       "2415462           Antalya\n",
       "2988233             Bursa\n",
       "4330317             İzmir\n",
       "5546531            Ankara\n",
       "15254231         İstanbul\n",
       "81867223            Total\n",
       "\n",
       "[82 rows x 1 columns]"
      ]
     },
     "execution_count": 39,
     "metadata": {},
     "output_type": "execute_result"
    }
   ],
   "source": [
    "df2[['City','Population']].groupby('Population').max()"
   ]
  },
  {
   "cell_type": "markdown",
   "metadata": {},
   "source": [
    "Şehirlerde Nüfus Sayısı"
   ]
  },
  {
   "cell_type": "code",
   "execution_count": 36,
   "metadata": {},
   "outputs": [
    {
     "data": {
      "text/plain": [
       "<matplotlib.axes._subplots.AxesSubplot at 0x26a1711c4a8>"
      ]
     },
     "execution_count": 36,
     "metadata": {},
     "output_type": "execute_result"
    },
    {
     "data": {
      "image/png": "[encoded data removed]",
      "text/plain": [
       "<Figure size 1440x3600 with 1 Axes>"
      ]
     },
     "metadata": {},
     "output_type": "display_data"
    }
   ],
   "source": [
    "plt.figure(figsize = (20,50))\n",
    "plt.title('Şehirlere göre Nüfus')\n",
    "sns.set_style(style = 'whitegrid')\n",
    "\n",
    "sns.barplot(x = 'Population', y = 'City', data = df2.sort_values(by = ['Population'],ascending = False))"
   ]
  },
  {
   "cell_type": "code",
   "execution_count": null,
   "metadata": {},
   "outputs": [],
   "source": []
  }
 ],
 "metadata": {
  "kernelspec": {
   "display_name": "Python 3",
   "language": "python",
   "name": "python3"
  },
  "language_info": {
   "codemirror_mode": {
    "name": "ipython",
    "version": 3
   },
   "file_extension": ".py",
   "mimetype": "text/x-python",
   "name": "python",
   "nbconvert_exporter": "python",
   "pygments_lexer": "ipython3",
   "version": "3.6.5"
  }
 },
 "nbformat": 4,
 "nbformat_minor": 2
}
